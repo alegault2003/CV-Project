{
 "cells": [
  {
   "cell_type": "code",
   "execution_count": 1,
   "metadata": {},
   "outputs": [],
   "source": [
    "import cv2 as cv\n",
    "import argparse"
   ]
  },
  {
   "cell_type": "markdown",
   "metadata": {},
   "source": [
    "## set up the cascades"
   ]
  },
  {
   "cell_type": "code",
   "execution_count": 2,
   "metadata": {},
   "outputs": [],
   "source": [
    "# initialize cascade classifier for face and eyes\n",
    "face_cas = cv.CascadeClassifier(cv.data.haarcascades + \"haarcascade_frontalface_alt.xml\")"
   ]
  },
  {
   "cell_type": "markdown",
   "metadata": {},
   "source": [
    "## set up camera"
   ]
  },
  {
   "cell_type": "code",
   "execution_count": 3,
   "metadata": {},
   "outputs": [],
   "source": [
    "vid = cv.VideoCapture(0)"
   ]
  },
  {
   "cell_type": "markdown",
   "metadata": {},
   "source": [
    "## use cascades to find face and eyes in image frame\n",
    "- transform frame to cascade specifications\n",
    "- find faces\n",
    "- for each face, find eyes"
   ]
  },
  {
   "cell_type": "code",
   "execution_count": 4,
   "metadata": {},
   "outputs": [],
   "source": [
    "def detectDisplay(frame):\n",
    "    # transform image frame\n",
    "    gray = cv.cvtColor(frame, cv.COLOR_BGR2GRAY)\n",
    "    gray = cv.equalizeHist(gray)\n",
    "\n",
    "    # find faces\n",
    "    faces = face_cas.detectMultiScale(gray)\n",
    "\n",
    "    for (x, y, w, h) in faces:\n",
    "        face_center = (x+w//2, y+h//2)\n",
    "\n",
    "        frame = cv.rectangle(frame, (x, y), (x+w, y+h), (255, 0, 255), 4)\n",
    "        # ellipse parameters: \n",
    "        #   image, \n",
    "        #   center coordinates, \n",
    "        #   half of width and height to create axes,\n",
    "        #   ellipse rotation angle,\n",
    "        #   starting angle,\n",
    "        #   ending angle,   \n",
    "        #   color of bounding box border,\n",
    "        #   thickness of border\n",
    "        # frame = cv.ellipse(frame, face_center, (w//2, h//2), 0, 0, 360, (255, 0, 255), 4)\n",
    "\n",
    "        faceROI = gray[y:y+h, x:x+w]\n",
    "\n",
    "    cv.imshow(\"capture - face detection\", frame)"
   ]
  },
  {
   "cell_type": "code",
   "execution_count": 5,
   "metadata": {},
   "outputs": [
    {
     "name": "stderr",
     "output_type": "stream",
     "text": [
      "qt.qpa.plugin: Could not find the Qt platform plugin \"wayland\" in \"/home/agathe/.local/lib/python3.10/site-packages/cv2/qt/plugins\"\n"
     ]
    }
   ],
   "source": [
    "while True:\n",
    "    ret, frame = vid.read()\n",
    "\n",
    "    detectDisplay(frame)\n",
    "\n",
    "    if cv.waitKey(1) & 0xFF == ord('q'):\n",
    "        break\n",
    "\n",
    "vid.release()\n",
    "cv.destroyAllWindows()"
   ]
  }
 ],
 "metadata": {
  "kernelspec": {
   "display_name": "Python 3",
   "language": "python",
   "name": "python3"
  },
  "language_info": {
   "codemirror_mode": {
    "name": "ipython",
    "version": 3
   },
   "file_extension": ".py",
   "mimetype": "text/x-python",
   "name": "python",
   "nbconvert_exporter": "python",
   "pygments_lexer": "ipython3",
   "version": "3.10.12"
  }
 },
 "nbformat": 4,
 "nbformat_minor": 2
}
